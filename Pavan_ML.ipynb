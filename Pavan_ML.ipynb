{
 "cells": [
  {
   "cell_type": "code",
   "execution_count": 2,
   "id": "d362d436",
   "metadata": {},
   "outputs": [
    {
     "name": "stdout",
     "output_type": "stream",
     "text": [
      "[19, 19, 20, 22, 24, 24, 24, 25, 25, 26]\n",
      "19\n",
      "26\n",
      "[19, 19, 20, 22, 24, 24, 24, 25, 25, 26, 19, 26]\n",
      "24.0\n",
      "22.75\n",
      "7\n"
     ]
    }
   ],
   "source": [
    "import statistics\n",
    "ls=[19, 22, 19, 24, 20, 25, 26, 24, 25, 24]\n",
    "ls.sort()\n",
    "print(ls)\n",
    "mini=ls[0]\n",
    "print(mini)\n",
    "maxi=ls[len(ls)-1]\n",
    "print(maxi)\n",
    "ls.append(mini)\n",
    "ls.append(maxi)\n",
    "print(ls)\n",
    "med=statistics.median(ls)\n",
    "print(med)\n",
    "length=len(ls)\n",
    "sum_ls=sum(ls)\n",
    "avg=sum_ls/length\n",
    "print(avg)\n",
    "ra=(maxi-mini)\n",
    "print(ra)"
   ]
  },
  {
   "cell_type": "code",
   "execution_count": 3,
   "id": "a3a1fe87",
   "metadata": {},
   "outputs": [
    {
     "name": "stdout",
     "output_type": "stream",
     "text": [
      "{'name': 'bunny', 'color': 'brown', 'breed': 'lab', 'legs': 'white', 'age': '5'}\n",
      "{'first_name': 'Pavan', 'last_name': 'Kalyan', 'gender': 'Male', 'age': '24', 'marital status': 'Single', 'skills': ['c', 'Python', 'java'], 'country': 'USA', 'city': 'Kansas', 'address': '3206'}\n",
      "9\n",
      "<class 'list'>\n",
      "{'first_name': 'Pavan', 'last_name': 'Kalyan', 'gender': 'Male', 'age': '24', 'marital status': 'Single', 'skills': ['unix', 'C', 'Html'], 'country': 'USA', 'city': 'Kansas', 'address': '3206'}\n",
      "['first_name', 'last_name', 'gender', 'age', 'marital status', 'skills', 'country', 'city', 'address']\n",
      "['Pavan', 'Kalyan', 'Male', '24', 'Single', ['unix', 'C', 'Html'], 'USA', 'Kansas', '3206']\n"
     ]
    }
   ],
   "source": [
    "#Dog dictionary\n",
    "dog={}\n",
    "dog['name']='bunny'\n",
    "dog['color']='brown'\n",
    "dog['breed']='lab'\n",
    "dog['legs']='white'\n",
    "dog['age']='5'\n",
    "print(dog)\n",
    "student={}\n",
    "student['first_name']='Pavan'\n",
    "student['last_name']='Kalyan'\n",
    "student['gender']='Male'\n",
    "student['age']='24'\n",
    "student['marital status']='Single'\n",
    "student['skills']=['c','Python','java']\n",
    "student['country']='USA'\n",
    "student['city']='Kansas'\n",
    "student['address']='3206'\n",
    "print(student)\n",
    "print(len(student))\n",
    "print(type(student['skills']))  \n",
    "student['skills']=['unix','C','Html']\n",
    "print(student)\n",
    "keys=student.keys()\n",
    "print(list(keys))\n",
    "values=student.values()\n",
    "print(list(values))"
   ]
  },
  {
   "cell_type": "code",
   "execution_count": 4,
   "id": "fd2276b1",
   "metadata": {},
   "outputs": [
    {
     "name": "stdout",
     "output_type": "stream",
     "text": [
      "('ram', 'bheeam', 'yogi', 'sravani')\n",
      "4\n"
     ]
    },
    {
     "data": {
      "text/plain": [
       "('ram', 'bheeam', 'yogi', 'sravani', 'Gandhi', 'Sailaja')"
      ]
     },
     "execution_count": 4,
     "metadata": {},
     "output_type": "execute_result"
    }
   ],
   "source": [
    "brothers_tuple=('ram','bheeam')\n",
    "sisters_tuple=('yogi','sravani')\n",
    "siblings=brothers_tuple+sisters_tuple\n",
    "print(siblings)\n",
    "print(len(siblings))\n",
    "siblings=list(siblings)\n",
    "siblings.append('Gandhi')\n",
    "siblings.append('Sailaja')\n",
    "family_members=tuple(siblings)\n",
    "family_members"
   ]
  },
  {
   "cell_type": "code",
   "execution_count": 19,
   "id": "5466538c",
   "metadata": {},
   "outputs": [
    {
     "name": "stdout",
     "output_type": "stream",
     "text": [
      "7\n",
      "{'Google', 'IBM', 'Apple', 'Microsoft', 'Facebook', 'Wipro', 'Cognizant', 'TCS', 'Oracle', 'Amazon', 'Infosys', 'Twitter'}\n",
      "{'Google', 'IBM', 'Apple', 'Microsoft', 'Facebook', 'Cognizant', 'TCS', 'Oracle', 'Amazon', 'Infosys', 'Twitter'}\n",
      "{19, 20, 22, 24, 25, 26, 27, 28}\n",
      "{19, 20, 22, 24, 25, 26}\n",
      "True\n",
      "False\n",
      "{19, 20, 22, 24, 25, 26, 27, 28}\n",
      "{19, 20, 22, 24, 25, 26, 27, 28}\n",
      "{27, 28}\n",
      "8\n",
      "5\n"
     ]
    }
   ],
   "source": [
    "it_companies = {'Facebook', 'Google', 'Microsoft', 'Apple', 'IBM', 'Oracle', 'Amazon'}\n",
    "A = {19, 22, 24, 20, 25, 26}\n",
    "B = {19, 22, 20, 25, 26, 24, 28, 27}\n",
    "age = [22, 19, 24, 25, 26, 24, 25, 24]\n",
    "print(len(it_companies))\n",
    "it_companies.add('Twitter')\n",
    "new = ['Cognizant','TCS','Infosys','Wipro']\n",
    "it_companies.update(new)\n",
    "print(it_companies)\n",
    "it_companies.remove('Wipro')\n",
    "it_companies.discard('Wipro')\n",
    "print(it_companies)\n",
    "'''\n",
    "Discard() will Removes the element from the set only if the element is present in the set.if not it will not raise an error\n",
    "Remove() will work same as Discard() but if element is not present in the list it will throw a error\n",
    "'''\n",
    "print(A.union(B))\n",
    "print(A.intersection(B))\n",
    "print(A.issubset(B))\n",
    "print(A.isdisjoint(B))\n",
    "print(A.union(B))\n",
    "print(B.union(A))\n",
    "print(A.symmetric_difference(B))\n",
    "del it_companies\n",
    "del A\n",
    "del B\n",
    "print(len(age))\n",
    "age_set=set(age)\n",
    "print(len(age_set))"
   ]
  },
  {
   "cell_type": "code",
   "execution_count": 20,
   "id": "fe09440a",
   "metadata": {},
   "outputs": [
    {
     "name": "stdout",
     "output_type": "stream",
     "text": [
      "2826.0\n",
      "Enter the value40\n",
      "5024.0\n"
     ]
    }
   ],
   "source": [
    "radius = 30\n",
    "_area_of_circle_= (3.14)*(radius)*(radius)\n",
    "print(_area_of_circle_)\n",
    "_circum_of_circle_ = (2)*(3.14)*(radius)\n",
    "print(_circum_of_circle_)\n",
    "r=int(input(\"Enter the value\"))\n",
    "print((3.14)*(r)*(r))\n"
   ]
  },
  {
   "cell_type": "code",
   "execution_count": 22,
   "id": "1d3ab39a",
   "metadata": {},
   "outputs": [
    {
     "name": "stdout",
     "output_type": "stream",
     "text": [
      "{'a', 'teacher', 'love', 'to', 'I', 'inspire', 'people', 'and', 'teach', 'am'}\n",
      "10\n"
     ]
    }
   ],
   "source": [
    "s = 'I am a teacher and I love to inspire and teach people'\n",
    "s=s.split(' ')\n",
    "print(set(s))\n",
    "print(len(set(s)))"
   ]
  },
  {
   "cell_type": "code",
   "execution_count": 25,
   "id": "d41b08af",
   "metadata": {},
   "outputs": [
    {
     "name": "stdout",
     "output_type": "stream",
     "text": [
      "Name\t\tAge\tCountry\tCity\n",
      "Asabeneh\t250\tFinland\tHelsinki\n"
     ]
    }
   ],
   "source": [
    "print(\"Name\\t\\tAge\\tCountry\\tCity\")\n",
    "print(\"Asabeneh\\t250\\tFinland\\tHelsinki\")"
   ]
  },
  {
   "cell_type": "code",
   "execution_count": 36,
   "id": "93099855",
   "metadata": {},
   "outputs": [
    {
     "name": "stdout",
     "output_type": "stream",
     "text": [
      "radius = 10\n",
      "area = 3.14*radius**2\n",
      "\"The area of a circle with radius 10 is 314.0 meters square\"\n"
     ]
    }
   ],
   "source": [
    "radius = 10\n",
    "PI = 3.14\n",
    "area=(3.14)*(radius)*(radius)\n",
    "print(\"radius = {radius}\".format(radius = 10))\n",
    "print(\"area = {PI}*radius**2\".format(PI = 3.14))\n",
    "print(\"\\\"The area of a circle with radius {radius} is {area} meters square\"\"\\\"\".format(radius=10,area = (3.14)*(radius)*(radius)))\n"
   ]
  },
  {
   "cell_type": "code",
   "execution_count": 50,
   "id": "b65bf489",
   "metadata": {},
   "outputs": [
    {
     "name": "stdout",
     "output_type": "stream",
     "text": [
      "150, 155, 145, 148\n",
      "[68.03, 70.29, 65.76, 67.12]\n"
     ]
    }
   ],
   "source": [
    "import math\n",
    "x = [int(x) for x in input().split(',')]\n",
    "ls =[]\n",
    "for i in x:\n",
    "    ls.append(round((i/2.205),2))\n",
    "print(ls)"
   ]
  },
  {
   "cell_type": "code",
   "execution_count": null,
   "id": "9eb115a9",
   "metadata": {},
   "outputs": [],
   "source": []
  }
 ],
 "metadata": {
  "kernelspec": {
   "display_name": "Python 3 (ipykernel)",
   "language": "python",
   "name": "python3"
  },
  "language_info": {
   "codemirror_mode": {
    "name": "ipython",
    "version": 3
   },
   "file_extension": ".py",
   "mimetype": "text/x-python",
   "name": "python",
   "nbconvert_exporter": "python",
   "pygments_lexer": "ipython3",
   "version": "3.9.7"
  }
 },
 "nbformat": 4,
 "nbformat_minor": 5
}
